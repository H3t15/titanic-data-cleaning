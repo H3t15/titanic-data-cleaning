{
  "nbformat": 4,
  "nbformat_minor": 0,
  "metadata": {
    "colab": {
      "provenance": []
    },
    "kernelspec": {
      "name": "python3",
      "display_name": "Python 3"
    },
    "language_info": {
      "name": "python"
    }
  },
  "cells": [
    {
      "cell_type": "markdown",
      "source": [
        "#Task 1\n",
        "## Data Cleaning & Preprocessing\n",
        "\n",
        "Objective: Learn how to clean and prepare raw data for ML"
      ],
      "metadata": {
        "id": "B7Weml2S9ncF"
      }
    },
    {
      "cell_type": "markdown",
      "source": [
        "## Import the Dataset and Explore Basic Info"
      ],
      "metadata": {
        "id": "QUoKD9At-GlD"
      }
    },
    {
      "cell_type": "markdown",
      "source": [
        "### Import Libraries"
      ],
      "metadata": {
        "id": "qT9Iy6Wu92Vw"
      }
    },
    {
      "cell_type": "code",
      "execution_count": 28,
      "metadata": {
        "id": "i4ijhqa29jZg"
      },
      "outputs": [],
      "source": [
        "import pandas as pd\n",
        "import numpy as np\n",
        "import matplotlib.pyplot as plt\n",
        "import seaborn as sns\n",
        ""
      ]
    },
    {
      "cell_type": "markdown",
      "source": [
        "### Load the Dataset:\n",
        "\n"
      ],
      "metadata": {
        "id": "CFYtLJaO-MBx"
      }
    },
    {
      "cell_type": "code",
      "source": [
        "df = pd.read_csv('/content/Titanic-Dataset.csv')\n",
        ""
      ],
      "metadata": {
        "id": "rE1ZTwrG-Pb0"
      },
      "execution_count": 29,
      "outputs": []
    },
    {
      "cell_type": "markdown",
      "source": [
        "### Explore Basic Info:\n",
        "\n"
      ],
      "metadata": {
        "id": "BtVoXQPB-cqI"
      }
    },
    {
      "cell_type": "code",
      "source": [
        "# Display the first few rows\n",
        "print(df.head())\n",
        "\n",
        "# Check data types and null values\n",
        "print(df.info())\n",
        "\n",
        "# Summary statistics\n",
        "print(df.describe())\n"
      ],
      "metadata": {
        "colab": {
          "base_uri": "https://localhost:8080/"
        },
        "id": "x5ZGPEIO-fjO",
        "outputId": "6e8193c3-913d-4dd4-f35d-397c4363b8a8"
      },
      "execution_count": 30,
      "outputs": [
        {
          "output_type": "stream",
          "name": "stdout",
          "text": [
            "   PassengerId  Survived  Pclass  \\\n",
            "0            1         0       3   \n",
            "1            2         1       1   \n",
            "2            3         1       3   \n",
            "3            4         1       1   \n",
            "4            5         0       3   \n",
            "\n",
            "                                                Name     Sex   Age  SibSp  \\\n",
            "0                            Braund, Mr. Owen Harris    male  22.0      1   \n",
            "1  Cumings, Mrs. John Bradley (Florence Briggs Th...  female  38.0      1   \n",
            "2                             Heikkinen, Miss. Laina  female  26.0      0   \n",
            "3       Futrelle, Mrs. Jacques Heath (Lily May Peel)  female  35.0      1   \n",
            "4                           Allen, Mr. William Henry    male  35.0      0   \n",
            "\n",
            "   Parch            Ticket     Fare Cabin Embarked  \n",
            "0      0         A/5 21171   7.2500   NaN        S  \n",
            "1      0          PC 17599  71.2833   C85        C  \n",
            "2      0  STON/O2. 3101282   7.9250   NaN        S  \n",
            "3      0            113803  53.1000  C123        S  \n",
            "4      0            373450   8.0500   NaN        S  \n",
            "<class 'pandas.core.frame.DataFrame'>\n",
            "RangeIndex: 891 entries, 0 to 890\n",
            "Data columns (total 12 columns):\n",
            " #   Column       Non-Null Count  Dtype  \n",
            "---  ------       --------------  -----  \n",
            " 0   PassengerId  891 non-null    int64  \n",
            " 1   Survived     891 non-null    int64  \n",
            " 2   Pclass       891 non-null    int64  \n",
            " 3   Name         891 non-null    object \n",
            " 4   Sex          891 non-null    object \n",
            " 5   Age          714 non-null    float64\n",
            " 6   SibSp        891 non-null    int64  \n",
            " 7   Parch        891 non-null    int64  \n",
            " 8   Ticket       891 non-null    object \n",
            " 9   Fare         891 non-null    float64\n",
            " 10  Cabin        204 non-null    object \n",
            " 11  Embarked     889 non-null    object \n",
            "dtypes: float64(2), int64(5), object(5)\n",
            "memory usage: 83.7+ KB\n",
            "None\n",
            "       PassengerId    Survived      Pclass         Age       SibSp  \\\n",
            "count   891.000000  891.000000  891.000000  714.000000  891.000000   \n",
            "mean    446.000000    0.383838    2.308642   29.699118    0.523008   \n",
            "std     257.353842    0.486592    0.836071   14.526497    1.102743   \n",
            "min       1.000000    0.000000    1.000000    0.420000    0.000000   \n",
            "25%     223.500000    0.000000    2.000000   20.125000    0.000000   \n",
            "50%     446.000000    0.000000    3.000000   28.000000    0.000000   \n",
            "75%     668.500000    1.000000    3.000000   38.000000    1.000000   \n",
            "max     891.000000    1.000000    3.000000   80.000000    8.000000   \n",
            "\n",
            "            Parch        Fare  \n",
            "count  891.000000  891.000000  \n",
            "mean     0.381594   32.204208  \n",
            "std      0.806057   49.693429  \n",
            "min      0.000000    0.000000  \n",
            "25%      0.000000    7.910400  \n",
            "50%      0.000000   14.454200  \n",
            "75%      0.000000   31.000000  \n",
            "max      6.000000  512.329200  \n"
          ]
        }
      ]
    },
    {
      "cell_type": "markdown",
      "source": [
        "##Handle Missing Values"
      ],
      "metadata": {
        "id": "htERS3bf-ljO"
      }
    },
    {
      "cell_type": "markdown",
      "source": [
        "###Identify Missing Values:\n",
        "\n"
      ],
      "metadata": {
        "id": "uSvM-AKm-rTV"
      }
    },
    {
      "cell_type": "code",
      "source": [
        "missing_values = df.isnull().sum()\n",
        "print(missing_values[missing_values > 0])\n",
        ""
      ],
      "metadata": {
        "colab": {
          "base_uri": "https://localhost:8080/"
        },
        "id": "mMStNH9n-uPU",
        "outputId": "3c77e2f5-4878-49ca-bae9-63cc03c2b175"
      },
      "execution_count": 10,
      "outputs": [
        {
          "output_type": "stream",
          "name": "stdout",
          "text": [
            "Cabin    687\n",
            "dtype: int64\n"
          ]
        }
      ]
    },
    {
      "cell_type": "markdown",
      "source": [
        "###Handle Missing Values:\n",
        "\n"
      ],
      "metadata": {
        "id": "f9Iwbjc6_J-0"
      }
    },
    {
      "cell_type": "code",
      "source": [
        "#For numerical features, you can use mean or median:\n",
        "df['Age'] = df['Age'].fillna(df['Age'].median())  # Using median for Age\n",
        "df['Fare'] = df['Fare'].fillna(df['Fare'].mean())  # Using mean for Fare"
      ],
      "metadata": {
        "id": "MValGdxZ_PCJ"
      },
      "execution_count": 6,
      "outputs": []
    },
    {
      "cell_type": "code",
      "source": [
        "#For categorical features, you can use mode or a placeholder:\n",
        "df['Embarked'] = df['Embarked'].fillna(df['Embarked'].mode()[0])  # Using mode for Embarked"
      ],
      "metadata": {
        "id": "pnGYcehE_u19"
      },
      "execution_count": 7,
      "outputs": []
    },
    {
      "cell_type": "markdown",
      "source": [
        "## Convert Categorical Features into Numerical"
      ],
      "metadata": {
        "id": "dusc_hBP_9v6"
      }
    },
    {
      "cell_type": "markdown",
      "source": [
        "###Encoding Categorical Features:\n"
      ],
      "metadata": {
        "id": "s-efUrFjABlr"
      }
    },
    {
      "cell_type": "code",
      "source": [
        "#Use one-hot encoding for nominal variables:\n",
        "df = pd.get_dummies(df, columns=['Sex', 'Embarked'], drop_first=True)\n",
        ""
      ],
      "metadata": {
        "id": "-PUtqiAq_YXn"
      },
      "execution_count": 8,
      "outputs": []
    },
    {
      "cell_type": "markdown",
      "source": [
        "##Normalize/Standardize Numerical Features\n"
      ],
      "metadata": {
        "id": "b_Ij47uXAaOT"
      }
    },
    {
      "cell_type": "markdown",
      "source": [
        "###Normalization"
      ],
      "metadata": {
        "id": "Y6NpPoaPAebC"
      }
    },
    {
      "cell_type": "code",
      "source": [
        "from sklearn.preprocessing import MinMaxScaler\n",
        "\n",
        "scaler = MinMaxScaler()\n",
        "df[['Age', 'Fare']] = scaler.fit_transform(df[['Age', 'Fare']])\n",
        ""
      ],
      "metadata": {
        "id": "6gsr_OhoAhSK"
      },
      "execution_count": 11,
      "outputs": []
    },
    {
      "cell_type": "markdown",
      "source": [
        "###Standardization"
      ],
      "metadata": {
        "id": "pASUeXhRAvIk"
      }
    },
    {
      "cell_type": "code",
      "source": [
        "from sklearn.preprocessing import StandardScaler\n",
        "\n",
        "scaler = StandardScaler()\n",
        "df[['Age', 'Fare']] = scaler.fit_transform(df[['Age', 'Fare']])\n",
        ""
      ],
      "metadata": {
        "id": "pOeT7mlOA0yv"
      },
      "execution_count": 12,
      "outputs": []
    },
    {
      "cell_type": "markdown",
      "source": [
        "##Visualize Outliers Using Boxplots and Remove Them"
      ],
      "metadata": {
        "id": "vApQUtNXA5py"
      }
    },
    {
      "cell_type": "markdown",
      "source": [
        "###Visualize Outliers\n",
        "\n"
      ],
      "metadata": {
        "id": "vTUn8-CuA9K1"
      }
    },
    {
      "cell_type": "code",
      "source": [
        "plt.figure(figsize=(12, 6))\n",
        "sns.boxplot(data=df[['Age', 'Fare']])\n",
        "plt.title('Boxplot of Age and Fare Before Removing Outliers')\n",
        "plt.show()"
      ],
      "metadata": {
        "colab": {
          "base_uri": "https://localhost:8080/",
          "height": 545
        },
        "id": "CGb3QYvzBAbG",
        "outputId": "436eec1a-fa53-4449-b9c1-80c298b6497c"
      },
      "execution_count": 26,
      "outputs": [
        {
          "output_type": "display_data",
          "data": {
            "text/plain": [
              "<Figure size 1200x600 with 1 Axes>"
            ],
            "image/png": "[encoded data removed]"
          },
          "metadata": {}
        }
      ]
    },
    {
      "cell_type": "markdown",
      "source": [
        "###Remove Outliers\n",
        "\n"
      ],
      "metadata": {
        "id": "YWjD0VN9BLWb"
      }
    },
    {
      "cell_type": "code",
      "source": [
        "# Define thresholds for Age\n",
        "Q1_age = df['Age'].quantile(0.25)\n",
        "Q3_age = df['Age'].quantile(0.75)\n",
        "IQR_age = Q3_age - Q1_age\n"
      ],
      "metadata": {
        "id": "xp2SMQzqCG_y"
      },
      "execution_count": 19,
      "outputs": []
    },
    {
      "cell_type": "code",
      "source": [
        "# Define thresholds for Fare\n",
        "Q1_fare = df['Fare'].quantile(0.25)\n",
        "Q3_fare = df['Fare'].quantile(0.75)\n",
        "IQR_fare = Q3_fare - Q1_fare\n"
      ],
      "metadata": {
        "id": "Nhh4b31GBQ7M"
      },
      "execution_count": 20,
      "outputs": []
    },
    {
      "cell_type": "code",
      "source": [
        "# Remove outliers for Age\n",
        "df = df[(df['Age'] >= (Q1_age - 1.5 * IQR_age)) & (df['Age'] <= (Q3_age + 1.5 * IQR_age))]\n"
      ],
      "metadata": {
        "id": "9K9HbPw6BcL7"
      },
      "execution_count": 21,
      "outputs": []
    },
    {
      "cell_type": "code",
      "source": [
        "# Remove outliers for Fare\n",
        "df = df[(df['Fare'] >= (Q1_fare - 1.5 * IQR_fare)) & (df['Fare'] <= (Q3_fare + 1.5 * IQR_fare))]\n"
      ],
      "metadata": {
        "id": "z7hHlxPICVrf"
      },
      "execution_count": 22,
      "outputs": []
    },
    {
      "cell_type": "code",
      "source": [
        "# Shape of the DataFrame after removing outliers\n",
        "print(f\"DataFrame shape after removing outliers: {df.shape}\")\n"
      ],
      "metadata": {
        "colab": {
          "base_uri": "https://localhost:8080/"
        },
        "id": "PfGdpRHXBcvn",
        "outputId": "debe0398-c665-48ea-d600-50ff5930ac3d"
      },
      "execution_count": 23,
      "outputs": [
        {
          "output_type": "stream",
          "name": "stdout",
          "text": [
            "DataFrame shape after removing outliers: (677, 13)\n"
          ]
        }
      ]
    },
    {
      "cell_type": "code",
      "source": [
        "plt.figure(figsize=(12, 6))\n",
        "sns.boxplot(data=df[['Age', 'Fare']])\n",
        "plt.title('Boxplot of Age and Fare AFter Removing Outliers')\n",
        "plt.show()"
      ],
      "metadata": {
        "colab": {
          "base_uri": "https://localhost:8080/",
          "height": 545
        },
        "id": "RF04iT8TCdHM",
        "outputId": "e0e1bf26-cb78-4558-8efa-b3f155130f41"
      },
      "execution_count": 27,
      "outputs": [
        {
          "output_type": "display_data",
          "data": {
            "text/plain": [
              "<Figure size 1200x600 with 1 Axes>"
            ],
            "image/png": "[encoded data removed]"
          },
          "metadata": {}
        }
      ]
    },
    {
      "cell_type": "code",
      "source": [],
      "metadata": {
        "id": "AnR5MVC3CY62"
      },
      "execution_count": null,
      "outputs": []
    }
  ]
}